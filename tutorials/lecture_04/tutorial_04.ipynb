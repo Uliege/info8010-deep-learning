{
 "cells": [
  {
   "cell_type": "markdown",
   "metadata": {
    "colab_type": "text",
    "id": "bIAYbYajk1w9"
   },
   "source": [
    "# Multilayer Perceptrons with Auto-differentiation!\n",
    "![](http://cs231n.github.io/assets/nn1/neural_net.jpeg)\n",
    "\n",
    "* Today we will (again) train a multilayer perceptron!\n",
    "    Differently from the last tutorial we will let the PyTorch library do most of the complicated work for us.\n",
    "\n",
    "* The goal of this notebook is therefore to get you familiar with what can considered as a general PyTorch cooking recipe, which we will re-use in the coming weeks.\n",
    "\n",
    "* We will be training a multilayer perceptron on the CIFAR-10 dataset, a popular dataset of images that is used in Computer-Vision (CV) research\n"
   ]
  },
  {
   "cell_type": "code",
   "execution_count": null,
   "metadata": {
    "colab": {
     "base_uri": "https://localhost:8080/",
     "height": 34
    },
    "colab_type": "code",
    "collapsed": true,
    "executionInfo": {
     "elapsed": 1060,
     "status": "ok",
     "timestamp": 1545794710219,
     "user": {
      "displayName": "Buomsoo Kim",
      "photoUrl": "",
      "userId": "18268696804115368229"
     },
     "user_tz": 420
    },
    "id": "8yy37hEYOEiQ",
    "outputId": "4434d2e8-c5e8-4dce-8316-7f9230dc1b75"
   },
   "outputs": [],
   "source": [
    "import numpy as np\n",
    "import torch, torchvision\n",
    "import torch.nn as nn\n",
    "from torchvision import datasets\n",
    "import torchvision.transforms as transforms\n",
    "from matplotlib import pyplot as plt "
   ]
  },
  {
   "cell_type": "markdown",
   "metadata": {},
   "source": [
    "## 1. Load the dataset\n",
    "\n",
    "* PyTorch has the nice advantage of providing us with popular CV datasets that can be easily downloaded.\n",
    "    The following script will download the CIFAR-10 dataset for you.\n",
    "    \n",
    "* Since it is computationally very expensive to load the entire dataset into memory at training time, you will have to look into PyTorch's dataloaders. "
   ]
  },
  {
   "cell_type": "code",
   "execution_count": null,
   "metadata": {
    "colab": {
     "base_uri": "https://localhost:8080/",
     "height": 52
    },
    "colab_type": "code",
    "executionInfo": {
     "elapsed": 2530,
     "status": "ok",
     "timestamp": 1545795192346,
     "user": {
      "displayName": "Buomsoo Kim",
      "photoUrl": "",
      "userId": "18268696804115368229"
     },
     "user_tz": 420
    },
    "id": "W5anlYa01w3w",
    "outputId": "dc43d91b-ad85-423f-fb18-1a0d2af22f25",
    "scrolled": true
   },
   "outputs": [],
   "source": [
    "transform = transforms.Compose(\n",
    "    [transforms.ToTensor(),\n",
    "     transforms.Normalize((0.5, 0.5, 0.5), (0.5, 0.5, 0.5))])\n",
    "\n",
    "trainset = datasets.CIFAR10(root = \"./data\", train = True, download = True, transform = transform)\n",
    "testset = datasets.CIFAR10(root = \"./data\", train = False, download = True, transform = transform)"
   ]
  },
  {
   "cell_type": "markdown",
   "metadata": {},
   "source": [
    "## Visualize the Images of CIFAR-10\n",
    "\n",
    "* Once everything is properly loaded you should be able to visualize some of the samples of the CIFAR-10"
   ]
  },
  {
   "cell_type": "code",
   "execution_count": null,
   "metadata": {},
   "outputs": [],
   "source": [
    "def show_images(img):\n",
    "    img = img / 2 + 0.5\n",
    "    npimg = img.numpy()\n",
    "    plt.imshow(np.transpose(npimg, (1, 2, 0)))\n",
    "    plt.show()\n",
    "    \n",
    "dataiter = iter(trainloader)\n",
    "images, labels = dataiter.next()\n",
    "show_images(torchvision.utils.make_grid(images))"
   ]
  },
  {
   "cell_type": "markdown",
   "metadata": {
    "colab_type": "text",
    "id": "9nznVMdo5edZ"
   },
   "source": [
    "## 2. Creating a MLP model and train it\n",
    "\n",
    "We are now ready to define all the necessary hyperparameters that are required to construct a proper MLP.\n",
    "Similarly to last week's tutorial explore the data carefully in order to know how to set the following parameters!"
   ]
  },
  {
   "cell_type": "markdown",
   "metadata": {},
   "source": [
    "### Hyperparameters"
   ]
  },
  {
   "cell_type": "code",
   "execution_count": null,
   "metadata": {
    "collapsed": true
   },
   "outputs": [],
   "source": [
    "input_dim =\n",
    "hidden_dim = \n",
    "output_dim = \n",
    "learning_rate =\n",
    "num_epochs ="
   ]
  },
  {
   "cell_type": "markdown",
   "metadata": {},
   "source": [
    "### Computation Graph\n",
    "\n",
    "You are free to define any kind of architecture that you think is reasonable for the problem of classifying CIFAR-10 images. The constructor of the neural network will represent the different components of the computation-graph, note that it is very similar to the way we have programmed our own neural network last week.\n",
    "You will also have to define the forward pass yourself."
   ]
  },
  {
   "cell_type": "code",
   "execution_count": null,
   "metadata": {
    "colab": {},
    "colab_type": "code",
    "collapsed": true,
    "id": "AQawpMRPI7jm"
   },
   "outputs": [],
   "source": [
    "class net(nn.Module):\n",
    "    def __init__(self, ):\n",
    "        \n",
    "\n",
    "    def forward(self, ):"
   ]
  },
  {
   "cell_type": "markdown",
   "metadata": {},
   "source": [
    "### Create the Network\n",
    "\n",
    "You are now ready to create your neural network object. You will also have to define an appropriate loss function to minimize and an optimization algorithm."
   ]
  },
  {
   "cell_type": "code",
   "execution_count": null,
   "metadata": {
    "colab": {},
    "colab_type": "code",
    "collapsed": true,
    "id": "cPBm8qDrSWsi"
   },
   "outputs": [],
   "source": [
    "model = net()\n",
    "criterion = \n",
    "optimizer = "
   ]
  },
  {
   "cell_type": "markdown",
   "metadata": {
    "colab": {},
    "colab_type": "code",
    "collapsed": true,
    "id": "rP0Gt5E9ajmd"
   },
   "source": [
    "### Train the Network\n",
    "\n",
    "Once you have your neural network you just need to train it. You will have to compute the output of the forward pass, compare it to your desired output and update the parameters of the network by backpropagation. Fortunately for you this week this only requires less than 5 lines of code in PyTorch!"
   ]
  },
  {
   "cell_type": "code",
   "execution_count": null,
   "metadata": {
    "colab": {
     "base_uri": "https://localhost:8080/",
     "height": 193
    },
    "colab_type": "code",
    "collapsed": true,
    "executionInfo": {
     "elapsed": 89814,
     "status": "ok",
     "timestamp": 1545795315447,
     "user": {
      "displayName": "Buomsoo Kim",
      "photoUrl": "",
      "userId": "18268696804115368229"
     },
     "user_tz": 420
    },
    "id": "SEBtAPYCFeic",
    "outputId": "edda354d-30d8-40cb-fef0-9c2a4fd968eb"
   },
   "outputs": [],
   "source": [
    "def train(num_epochs):\n",
    "    for i in range(num_epochs):\n",
    "        "
   ]
  },
  {
   "cell_type": "code",
   "execution_count": null,
   "metadata": {},
   "outputs": [],
   "source": [
    "train()"
   ]
  },
  {
   "cell_type": "markdown",
   "metadata": {
    "colab_type": "text",
    "id": "qpAJUiHm529m"
   },
   "source": [
    "## 3. Evaluate the final performance of the Network\n",
    "\n",
    "Lastly once you think your network is properly trained it will be time to test its performance on the testing-set of the CIFAR-10 dataset. Compute the final accuracy of your model."
   ]
  },
  {
   "cell_type": "code",
   "execution_count": null,
   "metadata": {
    "colab": {
     "base_uri": "https://localhost:8080/",
     "height": 72
    },
    "colab_type": "code",
    "collapsed": true,
    "executionInfo": {
     "elapsed": 2278,
     "status": "ok",
     "timestamp": 1545795466013,
     "user": {
      "displayName": "Buomsoo Kim",
      "photoUrl": "",
      "userId": "18268696804115368229"
     },
     "user_tz": 420
    },
    "id": "txXH3dknFpSx",
    "outputId": "9330f014-2687-4464-b495-1ba861511e38"
   },
   "outputs": [],
   "source": [
    "def test():\n",
    "    "
   ]
  },
  {
   "cell_type": "code",
   "execution_count": null,
   "metadata": {},
   "outputs": [],
   "source": [
    "test()"
   ]
  }
 ],
 "metadata": {
  "accelerator": "GPU",
  "colab": {
   "collapsed_sections": [],
   "name": "DL-with-pytorch - 2 [MLP].ipynb",
   "provenance": [],
   "version": "0.3.2"
  },
  "kernelspec": {
   "display_name": "deep_learning",
   "language": "python",
   "name": "deep_learning"
  },
  "language_info": {
   "codemirror_mode": {
    "name": "ipython",
    "version": 2
   },
   "file_extension": ".py",
   "mimetype": "text/x-python",
   "name": "python",
   "nbconvert_exporter": "python",
   "pygments_lexer": "ipython2",
   "version": "2.7.14"
  }
 },
 "nbformat": 4,
 "nbformat_minor": 1
}
