{
 "cells": [
  {
   "cell_type": "markdown",
   "metadata": {},
   "source": [
    "# Tensors!\n",
    "\n",
    "Tensors are one of the main ingredients when it comes to modern Deep-Learning frameworks. Almost all deep learning computations can be expressed as tensor operations which make computation fast and efficient. In this practical we will see how to manipulate tensors within the PyTorch library."
   ]
  },
  {
   "cell_type": "code",
   "execution_count": 2,
   "metadata": {
    "collapsed": true
   },
   "outputs": [],
   "source": [
    "import torch\n",
    "import numpy as np"
   ]
  },
  {
   "cell_type": "code",
   "execution_count": 3,
   "metadata": {},
   "outputs": [
    {
     "name": "stdout",
     "output_type": "stream",
     "text": [
      "tensor([[[0.0000, 0.0000, 0.0000, 0.0000],\n",
      "         [0.0000, 0.0000, 0.0000, 0.0000],\n",
      "         [0.0000, 0.0000, 0.0000, 0.0000]],\n",
      "\n",
      "        [[0.0000, 0.0000, 0.0000, 0.0000],\n",
      "         [0.0000, 0.0000, 0.0000, 0.0000],\n",
      "         [0.0000, 0.0000, 0.0000, 0.0000]]])\n"
     ]
    }
   ],
   "source": [
    "# Generate a tensor of size 2x3x4\n",
    "\n",
    "t = torch.Tensor(2, 3, 4)\n",
    "print(t)"
   ]
  },
  {
   "cell_type": "code",
   "execution_count": 4,
   "metadata": {},
   "outputs": [
    {
     "data": {
      "text/plain": [
       "'torch.FloatTensor'"
      ]
     },
     "execution_count": 4,
     "metadata": {},
     "output_type": "execute_result"
    }
   ],
   "source": [
    "# Get the type of the tensor\n",
    "t.type()"
   ]
  },
  {
   "cell_type": "code",
   "execution_count": 5,
   "metadata": {},
   "outputs": [
    {
     "name": "stdout",
     "output_type": "stream",
     "text": [
      "torch.Size([2, 3, 4])\n",
      "24\n",
      "3\n"
     ]
    }
   ],
   "source": [
    "# Get information about the tensor\n",
    "\n",
    "print(t.size())\n",
    "print(t.numel())\n",
    "print(t.dim())"
   ]
  },
  {
   "cell_type": "code",
   "execution_count": 8,
   "metadata": {},
   "outputs": [
    {
     "name": "stdout",
     "output_type": "stream",
     "text": [
      "tensor([[0.0000, 0.0000, 0.0000, 0.0000, 0.0000, 0.0000, 0.0000, 0.0000],\n",
      "        [0.0000, 0.0000, 0.0000, 0.0000, 0.0000, 0.0000, 0.0000, 0.0000],\n",
      "        [0.0000, 0.0000, 0.0000, 0.0000, 0.0000, 0.0000, 0.0000, 0.0000]])\n",
      "torch.Size([3, 8])\n"
     ]
    }
   ],
   "source": [
    "# Resize the tensor\n",
    "\n",
    "r = torch.Tensor(t)\n",
    "r.resize_(3, 8)\n",
    "print(r)\n",
    "print(r.size())"
   ]
  },
  {
   "cell_type": "markdown",
   "metadata": {},
   "source": [
    "## Vectors (1D Tensors) and similarities with Numpy\n",
    "\n",
    "Some of you might have noticed some similarities between the way PyTorch deals with tensors and the way Numpy deals with arrays. When it comes to basic algebraic operations both libraries can indeed be very similar as shown in some of the examples below"
   ]
  },
  {
   "cell_type": "code",
   "execution_count": 10,
   "metadata": {},
   "outputs": [
    {
     "name": "stdout",
     "output_type": "stream",
     "text": [
      "tensor([1., 2., 3., 4.])\n",
      "[1 2 3 4]\n"
     ]
    }
   ],
   "source": [
    "# Creates a 1D tensor of integers 1 to 4\n",
    "\n",
    "v = torch.Tensor([1, 2, 3, 4])\n",
    "np_v = np.array([1, 2, 3, 4]).astype(int)\n",
    "\n",
    "print(v)\n",
    "print(np_v)"
   ]
  },
  {
   "cell_type": "code",
   "execution_count": 11,
   "metadata": {},
   "outputs": [
    {
     "name": "stdout",
     "output_type": "stream",
     "text": [
      "tensor([1., 0., 2., 0.])\n",
      "[1 0 2 0]\n"
     ]
    }
   ],
   "source": [
    "# We create a second tensor with the same properties\n",
    "\n",
    "w = torch.Tensor([1, 0, 2, 0])\n",
    "np_w = np.array([1, 0, 2, 0]).astype(int)\n",
    "\n",
    "print(w)\n",
    "print(np_w)"
   ]
  },
  {
   "cell_type": "code",
   "execution_count": 14,
   "metadata": {},
   "outputs": [
    {
     "name": "stdout",
     "output_type": "stream",
     "text": [
      "tensor([1., 0., 6., 0.])\n",
      "[1 0 6 0]\n"
     ]
    }
   ],
   "source": [
    "# Element-wise multiplication\n",
    "\n",
    "x = v * w\n",
    "np_x = np.multiply(np_v, np_w)\n",
    "\n",
    "print(x)\n",
    "print(np_x)"
   ]
  },
  {
   "cell_type": "code",
   "execution_count": 15,
   "metadata": {},
   "outputs": [
    {
     "name": "stdout",
     "output_type": "stream",
     "text": [
      "tensor([1., 0., 6.])\n",
      "[1 0 6]\n"
     ]
    }
   ],
   "source": [
    "# Slicing: extract sub-Tensor [from:to)\n",
    "\n",
    "print(x[0:3])\n",
    "print(np_x[0:3])"
   ]
  },
  {
   "cell_type": "code",
   "execution_count": 16,
   "metadata": {},
   "outputs": [
    {
     "name": "stdout",
     "output_type": "stream",
     "text": [
      "tensor([1, 2, 3, 4])\n",
      "[1 2 3 4]\n"
     ]
    }
   ],
   "source": [
    "# Create a tensor with integers ranging from 1 to 5, excluding 5\n",
    "\n",
    "v = torch.arange(1, 4 + 1)\n",
    "np_v = np.arange(1, 5)\n",
    "\n",
    "print(v)\n",
    "print(np_v)"
   ]
  },
  {
   "cell_type": "code",
   "execution_count": 18,
   "metadata": {},
   "outputs": [
    {
     "name": "stdout",
     "output_type": "stream",
     "text": [
      "tensor([ 1,  4,  9, 16])\n",
      "[ 1  4  9 16]\n"
     ]
    }
   ],
   "source": [
    "# Square all elements in the tensor\n",
    "\n",
    "print(v.pow(2))\n",
    "print(np.square(np_v))"
   ]
  },
  {
   "cell_type": "markdown",
   "metadata": {},
   "source": [
    "## Let's add one dimension: matrices (2D Tensors)\n",
    "\n",
    "Within deep learning, the fun really starts when increasing the dimensionality of the tensors.\n",
    "In fact there is not so much we can do when dealing with one-dimensional tensors. Just like before, 2D tensors are treated in a similar way between PyTorch and Numpy."
   ]
  },
  {
   "cell_type": "code",
   "execution_count": 20,
   "metadata": {},
   "outputs": [
    {
     "name": "stdout",
     "output_type": "stream",
     "text": [
      "tensor([[2., 5., 3., 7.],\n",
      "        [4., 2., 1., 9.]])\n",
      "[[2 5 3 7]\n",
      " [4 2 1 9]]\n"
     ]
    }
   ],
   "source": [
    "# Create a 2x4 tensor\n",
    "\n",
    "m = torch.Tensor([[2, 5, 3, 7],\n",
    "                  [4, 2, 1, 9]])\n",
    "print(m)\n",
    "\n",
    "np_m = np.array([[2, 5, 3, 7],[4, 2, 1, 9]])\n",
    "print(np_m)"
   ]
  },
  {
   "cell_type": "code",
   "execution_count": 21,
   "metadata": {},
   "outputs": [
    {
     "name": "stdout",
     "output_type": "stream",
     "text": [
      "torch.Size([2, 4])\n",
      "(2, 4)\n"
     ]
    }
   ],
   "source": [
    "# Get the shape of the tensor\n",
    "\n",
    "print(m.size())\n",
    "print(np_m.shape)"
   ]
  },
  {
   "cell_type": "code",
   "execution_count": 22,
   "metadata": {},
   "outputs": [
    {
     "data": {
      "text/plain": [
       "tensor(3.)"
      ]
     },
     "execution_count": 22,
     "metadata": {},
     "output_type": "execute_result"
    }
   ],
   "source": [
    "# Indexing row 0, column 2 (0-indexed)\n",
    "\n",
    "m[0][2]"
   ]
  },
  {
   "cell_type": "code",
   "execution_count": 23,
   "metadata": {},
   "outputs": [
    {
     "data": {
      "text/plain": [
       "tensor([5., 2.])"
      ]
     },
     "execution_count": 23,
     "metadata": {},
     "output_type": "execute_result"
    }
   ],
   "source": [
    "# Indexing column 1, all rows (returns size 2)\n",
    "\n",
    "m[:, 1]"
   ]
  },
  {
   "cell_type": "markdown",
   "metadata": {},
   "source": [
    "# Exercise: Tensor Operations\n",
    "\n",
    "It is now up to you to get familiar with some basic tensor operations in PyTorch."
   ]
  },
  {
   "cell_type": "code",
   "execution_count": 25,
   "metadata": {},
   "outputs": [
    {
     "data": {
      "text/plain": [
       "tensor([[5.],\n",
       "        [2.]])"
      ]
     },
     "execution_count": 25,
     "metadata": {},
     "output_type": "execute_result"
    }
   ],
   "source": [
    "# Indexing column 1, all rows (returns size 2x2)\n",
    "\n",
    "m[:, [1]]"
   ]
  },
  {
   "cell_type": "code",
   "execution_count": 26,
   "metadata": {},
   "outputs": [
    {
     "data": {
      "text/plain": [
       "tensor([[2., 5., 3., 7.]])"
      ]
     },
     "execution_count": 26,
     "metadata": {},
     "output_type": "execute_result"
    }
   ],
   "source": [
    "# Indexes row 0, all columns (returns 1x4)\n",
    "\n",
    "m[[0], :]"
   ]
  },
  {
   "cell_type": "code",
   "execution_count": 27,
   "metadata": {},
   "outputs": [
    {
     "data": {
      "text/plain": [
       "tensor([[2.4080, 5.8418, 3.2608, 7.9658],\n",
       "        [4.1409, 2.0817, 1.4635, 9.5946]])"
      ]
     },
     "execution_count": 27,
     "metadata": {},
     "output_type": "execute_result"
    }
   ],
   "source": [
    "# Add a random tensor of size 2x4 to m\n",
    "\n",
    "m + torch.rand(2, 4)"
   ]
  },
  {
   "cell_type": "code",
   "execution_count": 28,
   "metadata": {},
   "outputs": [
    {
     "data": {
      "text/plain": [
       "tensor([[1.5921, 4.8251, 2.9944, 6.9136],\n",
       "        [3.6459, 1.0264, 0.6960, 8.1123]])"
      ]
     },
     "execution_count": 28,
     "metadata": {},
     "output_type": "execute_result"
    }
   ],
   "source": [
    "# Subtract a random tensor of size 2x4 to m\n",
    "\n",
    "m - torch.rand(2, 4)"
   ]
  },
  {
   "cell_type": "code",
   "execution_count": 29,
   "metadata": {},
   "outputs": [
    {
     "data": {
      "text/plain": [
       "tensor([[1.2447, 3.6793, 0.7641, 2.1660],\n",
       "        [3.9751, 1.7018, 0.5989, 5.2699]])"
      ]
     },
     "execution_count": 29,
     "metadata": {},
     "output_type": "execute_result"
    }
   ],
   "source": [
    "# Multiply a random tensor of size 2x4 to m\n",
    "\n",
    "m * torch.rand(2, 4)"
   ]
  },
  {
   "cell_type": "code",
   "execution_count": 31,
   "metadata": {},
   "outputs": [
    {
     "data": {
      "text/plain": [
       "tensor([[  5.0604,   5.9810,   3.6065, 233.5907],\n",
       "        [  4.2611,   2.7830,   3.3420,  12.2940]])"
      ]
     },
     "execution_count": 31,
     "metadata": {},
     "output_type": "execute_result"
    }
   ],
   "source": [
    "# Divide m by a random tensor of size 2x4\n",
    "\n",
    "m / torch.rand(2, 4)"
   ]
  },
  {
   "cell_type": "code",
   "execution_count": 32,
   "metadata": {},
   "outputs": [
    {
     "data": {
      "text/plain": [
       "tensor([[2., 4.],\n",
       "        [5., 2.],\n",
       "        [3., 1.],\n",
       "        [7., 9.]])"
      ]
     },
     "execution_count": 32,
     "metadata": {},
     "output_type": "execute_result"
    }
   ],
   "source": [
    "# Transpose tensor m\n",
    "\n",
    "m.t()"
   ]
  },
  {
   "cell_type": "markdown",
   "metadata": {},
   "source": [
    "# Exercise: Polynomial Regression\n",
    "\n",
    "In this morning's lecture we have seen Polynomial Regression and how simple it is to solve such an optimization problem. In this exercise I will first show you how this simple model can be trained and it will then be up to you to code the solution in PyTorch. "
   ]
  },
  {
   "cell_type": "code",
   "execution_count": 1,
   "metadata": {
    "collapsed": true
   },
   "outputs": [],
   "source": [
    "from matplotlib import pyplot as plt \n",
    "from sklearn.preprocessing import PolynomialFeatures"
   ]
  },
  {
   "cell_type": "code",
   "execution_count": 3,
   "metadata": {
    "scrolled": true
   },
   "outputs": [
    {
     "data": {
      "image/png": "[encoded data removed]",
      "text/plain": [
       "<matplotlib.figure.Figure at 0x7efe9568fdd0>"
      ]
     },
     "metadata": {},
     "output_type": "display_data"
    }
   ],
   "source": [
    "def true_f(x):\n",
    "    return 0.1 * (x-2) ** 3 + x ** 2 - 8.0 * x - 1.0\n",
    "\n",
    "def generate(n_samples):\n",
    "    X = np.random.rand(n_samples) * 20.0 - 10.0\n",
    "    y = true_f(X) + 5 * np.random.randn(n_samples)\n",
    "    \n",
    "    return X.reshape(n_samples, 1), y\n",
    "\n",
    "X_train, y_train = generate(15)\n",
    "xs = np.linspace(-10, 10, num=1000)\n",
    "plt.plot(xs, true_f(xs), c=\"r\", label=\"$g(x)$\")\n",
    "plt.scatter(X_train, y_train, label=\"$y = g(x) + \\epsilon$\")\n",
    "plt.legend(loc='upper left')\n",
    "plt.grid(color=\"grey\")\n",
    "plt.show()"
   ]
  },
  {
   "cell_type": "code",
   "execution_count": 4,
   "metadata": {
    "collapsed": true
   },
   "outputs": [],
   "source": [
    "def model(X, beta, poly):\n",
    "    Xp = poly.transform(X)\n",
    "    return np.dot(Xp, beta)"
   ]
  },
  {
   "cell_type": "code",
   "execution_count": 5,
   "metadata": {},
   "outputs": [
    {
     "data": {
      "image/png": "[encoded data removed]",
      "text/plain": [
       "<matplotlib.figure.Figure at 0x7efe956ab050>"
      ]
     },
     "metadata": {},
     "output_type": "display_data"
    },
    {
     "name": "stdout",
     "output_type": "stream",
     "text": [
      "The error of our model is 11.8014530628\n"
     ]
    }
   ],
   "source": [
    "poly = PolynomialFeatures(degree=3, include_bias=True)\n",
    "Xp = poly.fit_transform(X_train)\n",
    "\n",
    "beta = np.dot(np.dot(np.linalg.inv(np.dot(Xp.T, Xp)), Xp.T), y_train) # analytic solution for the optimization problem\n",
    "\n",
    "error = np.mean((y_train - model(X_train, beta, poly)) ** 2) # cost-function\n",
    "\n",
    "plt.plot(xs, true_f(xs), c=\"r\", label=\"$g(x)$\")\n",
    "plt.scatter(X_train, y_train, label=\"$y = g(x) + \\epsilon$\")\n",
    "plt.plot(xs, model(xs.reshape(-1,1), beta, poly), c=\"b\", label=\"$\\hat{y} = f(x)$\")\n",
    "plt.title(\"degree = %d, $\\hat{R}(f, d) = %.2f$\" % (3, error))\n",
    "plt.ylim(-40, 80)\n",
    "plt.grid()\n",
    "plt.legend()\n",
    "plt.show()\n",
    "\n",
    "print(\"The error of our model is {}\".format(error))"
   ]
  },
  {
   "cell_type": "markdown",
   "metadata": {},
   "source": [
    "# PyTorch solution\n",
    "\n",
    "The solutons consists of 2 easy steps:\n",
    "\n",
    "* create a function similar to the model one which does the required computations in PyTorch instead of Numpy.\n",
    "* Solve the optimization problem by using the 2D tensor operations we have seen before. Some of these operations require some basic transformations between Numpy arrays and PyTorch tensors."
   ]
  },
  {
   "cell_type": "code",
   "execution_count": 8,
   "metadata": {
    "collapsed": true
   },
   "outputs": [],
   "source": [
    "def pytorch_model(X, beta, poly):\n",
    "    Xp = poly.transform(X)    \n",
    "    return torch.mv(torch.from_numpy(Xp), beta)"
   ]
  },
  {
   "cell_type": "code",
   "execution_count": 9,
   "metadata": {},
   "outputs": [
    {
     "name": "stdout",
     "output_type": "stream",
     "text": [
      "The error of our PyTorch model is 11.8014530628\n"
     ]
    }
   ],
   "source": [
    "poly = PolynomialFeatures(degree=3, include_bias=True)\n",
    "\n",
    "Xp = poly.fit_transform(X_train)\n",
    "Xp = torch.from_numpy(Xp)\n",
    "beta = torch.matmul(torch.matmul(torch.inverse(torch.matmul(Xp.t(), Xp)), Xp.t()), torch.from_numpy(y_train))\n",
    "\n",
    "error = torch.mean((torch.from_numpy(y_train) - pytorch_model(torch.from_numpy(X_train), beta, poly)) ** 2)\n",
    "\n",
    "print(\"The error of our PyTorch model is {}\".format(error))"
   ]
  }
 ],
 "metadata": {
  "kernelspec": {
   "display_name": "lottery",
   "language": "python",
   "name": "lottery"
  },
  "language_info": {
   "codemirror_mode": {
    "name": "ipython",
    "version": 2
   },
   "file_extension": ".py",
   "mimetype": "text/x-python",
   "name": "python",
   "nbconvert_exporter": "python",
   "pygments_lexer": "ipython2",
   "version": "2.7.14"
  }
 },
 "nbformat": 4,
 "nbformat_minor": 4
}
